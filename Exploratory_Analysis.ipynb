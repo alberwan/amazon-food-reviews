{
 "cells": [
  {
   "cell_type": "code",
   "execution_count": 50,
   "metadata": {},
   "outputs": [
    {
     "name": "stdout",
     "output_type": "stream",
     "text": [
      "Requirement already satisfied: spacy in ./venv/lib/python2.7/site-packages (2.0.12)\n",
      "Requirement already satisfied: pandas in ./venv/lib/python2.7/site-packages (0.23.4)\n",
      "Requirement already satisfied: plotly in ./venv/lib/python2.7/site-packages (3.1.0)\n",
      "Requirement already satisfied: preshed<2.0.0,>=1.0.0 in ./venv/lib/python2.7/site-packages (from spacy) (1.0.1)\n",
      "Requirement already satisfied: dill<0.3,>=0.2 in ./venv/lib/python2.7/site-packages (from spacy) (0.2.8.2)\n",
      "Requirement already satisfied: pathlib==1.0.1; python_version < \"3.4\" in ./venv/lib/python2.7/site-packages (from spacy) (1.0.1)\n",
      "Requirement already satisfied: thinc<6.11.0,>=6.10.3 in ./venv/lib/python2.7/site-packages (from spacy) (6.10.3)\n",
      "Requirement already satisfied: requests<3.0.0,>=2.13.0 in ./venv/lib/python2.7/site-packages (from spacy) (2.19.1)\n",
      "Requirement already satisfied: murmurhash<0.29,>=0.28 in ./venv/lib/python2.7/site-packages (from spacy) (0.28.0)\n",
      "Requirement already satisfied: plac<1.0.0,>=0.9.6 in ./venv/lib/python2.7/site-packages (from spacy) (0.9.6)\n",
      "Requirement already satisfied: ujson>=1.35 in ./venv/lib/python2.7/site-packages (from spacy) (1.35)\n",
      "Requirement already satisfied: regex==2017.4.5 in ./venv/lib/python2.7/site-packages (from spacy) (2017.4.5)\n",
      "Requirement already satisfied: cymem<1.32,>=1.30 in ./venv/lib/python2.7/site-packages (from spacy) (1.31.2)\n",
      "Requirement already satisfied: numpy>=1.7 in ./venv/lib/python2.7/site-packages (from spacy) (1.15.0)\n",
      "Requirement already satisfied: python-dateutil>=2.5.0 in ./venv/lib/python2.7/site-packages (from pandas) (2.7.3)\n",
      "Requirement already satisfied: pytz>=2011k in ./venv/lib/python2.7/site-packages (from pandas) (2018.5)\n",
      "Requirement already satisfied: nbformat>=4.2 in ./venv/lib/python2.7/site-packages (from plotly) (4.4.0)\n",
      "Requirement already satisfied: retrying>=1.3.3 in ./venv/lib/python2.7/site-packages (from plotly) (1.3.3)\n",
      "Requirement already satisfied: six in ./venv/lib/python2.7/site-packages (from plotly) (1.11.0)\n",
      "Requirement already satisfied: decorator>=4.0.6 in ./venv/lib/python2.7/site-packages (from plotly) (4.3.0)\n",
      "Requirement already satisfied: msgpack<1.0.0,>=0.5.6 in ./venv/lib/python2.7/site-packages (from thinc<6.11.0,>=6.10.3->spacy) (0.5.6)\n",
      "Requirement already satisfied: wrapt<1.11.0,>=1.10.0 in ./venv/lib/python2.7/site-packages (from thinc<6.11.0,>=6.10.3->spacy) (1.10.11)\n",
      "Requirement already satisfied: tqdm<5.0.0,>=4.10.0 in ./venv/lib/python2.7/site-packages (from thinc<6.11.0,>=6.10.3->spacy) (4.24.0)\n",
      "Requirement already satisfied: msgpack-numpy<1.0.0,>=0.4.1 in ./venv/lib/python2.7/site-packages (from thinc<6.11.0,>=6.10.3->spacy) (0.4.3.1)\n",
      "Requirement already satisfied: cytoolz<0.10,>=0.9.0 in ./venv/lib/python2.7/site-packages (from thinc<6.11.0,>=6.10.3->spacy) (0.9.0.1)\n",
      "Requirement already satisfied: certifi>=2017.4.17 in ./venv/lib/python2.7/site-packages (from requests<3.0.0,>=2.13.0->spacy) (2018.4.16)\n",
      "Requirement already satisfied: chardet<3.1.0,>=3.0.2 in ./venv/lib/python2.7/site-packages (from requests<3.0.0,>=2.13.0->spacy) (3.0.4)\n",
      "Requirement already satisfied: urllib3<1.24,>=1.21.1 in ./venv/lib/python2.7/site-packages (from requests<3.0.0,>=2.13.0->spacy) (1.23)\n",
      "Requirement already satisfied: idna<2.8,>=2.5 in ./venv/lib/python2.7/site-packages (from requests<3.0.0,>=2.13.0->spacy) (2.7)\n",
      "Requirement already satisfied: ipython-genutils in ./venv/lib/python2.7/site-packages (from nbformat>=4.2->plotly) (0.2.0)\n",
      "Requirement already satisfied: traitlets>=4.1 in ./venv/lib/python2.7/site-packages (from nbformat>=4.2->plotly) (4.3.2)\n",
      "Requirement already satisfied: jsonschema!=2.5.0,>=2.4 in ./venv/lib/python2.7/site-packages (from nbformat>=4.2->plotly) (2.6.0)\n",
      "Requirement already satisfied: jupyter-core in ./venv/lib/python2.7/site-packages (from nbformat>=4.2->plotly) (4.4.0)\n",
      "Requirement already satisfied: toolz>=0.8.0 in ./venv/lib/python2.7/site-packages (from cytoolz<0.10,>=0.9.0->thinc<6.11.0,>=6.10.3->spacy) (0.9.0)\n",
      "Requirement already satisfied: enum34; python_version == \"2.7\" in ./venv/lib/python2.7/site-packages (from traitlets>=4.1->nbformat>=4.2->plotly) (1.1.6)\n",
      "Requirement already satisfied: functools32; python_version == \"2.7\" in ./venv/lib/python2.7/site-packages (from jsonschema!=2.5.0,>=2.4->nbformat>=4.2->plotly) (3.2.3.post2)\n",
      "/Users/prem/Desktop/Development/sandbox/amazon-food-reviews/venv/lib/python2.7/site-packages/thinc/neural/train.py:3: RuntimeWarning: numpy.dtype size changed, may indicate binary incompatibility. Expected 96, got 88\n",
      "  from .optimizers import Adam, SGD, linear_decay\n",
      "/Users/prem/Desktop/Development/sandbox/amazon-food-reviews/venv/lib/python2.7/site-packages/thinc/neural/train.py:3: RuntimeWarning: numpy.ufunc size changed, may indicate binary incompatibility. Expected 192, got 176\n",
      "  from .optimizers import Adam, SGD, linear_decay\n",
      "/Users/prem/Desktop/Development/sandbox/amazon-food-reviews/venv/lib/python2.7/site-packages/spacy/cli/train.py:12: RuntimeWarning: numpy.dtype size changed, may indicate binary incompatibility. Expected 96, got 88\n",
      "  from ..gold import GoldCorpus, minibatch\n",
      "/Users/prem/Desktop/Development/sandbox/amazon-food-reviews/venv/lib/python2.7/site-packages/spacy/cli/train.py:12: RuntimeWarning: numpy.ufunc size changed, may indicate binary incompatibility. Expected 192, got 176\n",
      "  from ..gold import GoldCorpus, minibatch\n",
      "/Users/prem/Desktop/Development/sandbox/amazon-food-reviews/venv/lib/python2.7/site-packages/spacy/tokens/__init__.py:1: RuntimeWarning: numpy.dtype size changed, may indicate binary incompatibility. Expected 96, got 88\n",
      "  from .doc import Doc\n",
      "/Users/prem/Desktop/Development/sandbox/amazon-food-reviews/venv/lib/python2.7/site-packages/spacy/tokens/__init__.py:1: RuntimeWarning: numpy.ufunc size changed, may indicate binary incompatibility. Expected 192, got 176\n",
      "  from .doc import Doc\n",
      "/Users/prem/Desktop/Development/sandbox/amazon-food-reviews/venv/lib/python2.7/site-packages/spacy/_ml.py:14: RuntimeWarning: numpy.dtype size changed, may indicate binary incompatibility. Expected 96, got 88\n",
      "  from thinc.linear.linear import LinearModel\n",
      "/Users/prem/Desktop/Development/sandbox/amazon-food-reviews/venv/lib/python2.7/site-packages/spacy/_ml.py:14: RuntimeWarning: numpy.ufunc size changed, may indicate binary incompatibility. Expected 192, got 176\n",
      "  from thinc.linear.linear import LinearModel\n",
      "Requirement already satisfied: en_core_web_sm==2.0.0 from https://github.com/explosion/spacy-models/releases/download/en_core_web_sm-2.0.0/en_core_web_sm-2.0.0.tar.gz#egg=en_core_web_sm==2.0.0 in ./venv/lib/python2.7/site-packages (2.0.0)\n",
      "\n",
      "\u001b[93m    Linking successful\u001b[0m\n",
      "    /Users/prem/Desktop/Development/sandbox/amazon-food-reviews/venv/lib/python2.7/site-packages/en_core_web_sm\n",
      "    -->\n",
      "    /Users/prem/Desktop/Development/sandbox/amazon-food-reviews/venv/lib/python2.7/site-packages/spacy/data/en\n",
      "\n",
      "    You can now load the model via spacy.load('en')\n",
      "\n"
     ]
    }
   ],
   "source": [
    "# -*- coding: utf-8 -*- \n",
    "\n",
    "!pip install spacy pandas plotly\n",
    "\n",
    "import spacy\n",
    "import pandas as pd\n",
    "import plotly\n",
    "import plotly.plotly as py\n",
    "import plotly.figure_factory as ff\n",
    "\n",
    "!python -m spacy download en"
   ]
  },
  {
   "cell_type": "code",
   "execution_count": 31,
   "metadata": {},
   "outputs": [],
   "source": [
    "nlp = spacy.load('en')"
   ]
  },
  {
   "cell_type": "code",
   "execution_count": 41,
   "metadata": {},
   "outputs": [
    {
     "name": "stdout",
     "output_type": "stream",
     "text": [
      "0    I have bought several of the Vitality canned d...\n",
      "1    Product arrived labeled as Jumbo Salted Peanut...\n",
      "2    This is a confection that has been around a fe...\n",
      "3    If you are looking for the secret ingredient i...\n",
      "4    Great taffy at a great price.  There was a wid...\n",
      "5    I got a wild hair for taffy and ordered this f...\n",
      "6    This saltwater taffy had great flavors and was...\n",
      "7    This taffy is so good.  It is very soft and ch...\n",
      "8    Right now I'm mostly just sprouting this so my...\n",
      "9    This is a very healthy dog food. Good for thei...\n",
      "Name: Text, dtype: object\n"
     ]
    }
   ],
   "source": [
    "df = pd.read_csv(\"data/amazon-fine-food-reviews/Reviews.csv\", encoding=\"utf-8\")\n",
    "\n",
    "texts = df.Text\n",
    "print(texts[0:10])"
   ]
  },
  {
   "cell_type": "code",
   "execution_count": 42,
   "metadata": {},
   "outputs": [
    {
     "name": "stdout",
     "output_type": "stream",
     "text": [
      "568454\n"
     ]
    }
   ],
   "source": [
    "print(len(texts))"
   ]
  },
  {
   "cell_type": "code",
   "execution_count": 57,
   "metadata": {},
   "outputs": [
    {
     "name": "stdout",
     "output_type": "stream",
     "text": [
      "{u'ORDINAL': 95, u'LOC': 43, u'PRODUCT': 27, u'NORP': 163, u'WORK_OF_ART': 40, u'LANGUAGE': 4, u'PERCENT': 39, u'GPE': 235, u'TIME': 58, u'MONEY': 66, u'PERSON': 359, u'CARDINAL': 551, u'FAC': 23, u'DATE': 274, u'ORG': 879, u'LAW': 4, u'EVENT': 6, u'QUANTITY': 48}\n"
     ]
    }
   ],
   "source": [
    "entity_freq = {}\n",
    "for text in texts[0:900]:\n",
    "    doc = nlp(unicode(text))\n",
    "    \n",
    "    for ent in doc.ents:\n",
    "        if ent.label_ in entity_freq:\n",
    "            entity_freq[ent.label_] += 1\n",
    "        else:\n",
    "            entity_freq[ent.label_] = 1\n",
    "        #print(ent.text, ent.start_char, ent.end_char, ent.label_)\n",
    "\n",
    "print entity_freq"
   ]
  },
  {
   "cell_type": "code",
   "execution_count": 58,
   "metadata": {},
   "outputs": [
    {
     "data": {
      "text/html": [
       "<iframe id=\"igraph\" scrolling=\"no\" style=\"border:none;\" seamless=\"seamless\" src=\"https://plot.ly/~premgane/2.embed\" height=\"525px\" width=\"100%\"></iframe>"
      ],
      "text/plain": [
       "<plotly.tools.PlotlyDisplay object>"
      ]
     },
     "execution_count": 58,
     "metadata": {},
     "output_type": "execute_result"
    }
   ],
   "source": [
    "import plotly.graph_objs as go\n",
    "\n",
    "data = [go.Bar(\n",
    "    x=list(entity_freq.keys()),\n",
    "    y=entity_freq.values()\n",
    ")]\n",
    "\n",
    "py.iplot(data, filename='Amazon_food_reviews_entity-type_freq')"
   ]
  },
  {
   "cell_type": "code",
   "execution_count": null,
   "metadata": {},
   "outputs": [],
   "source": []
  }
 ],
 "metadata": {
  "kernelspec": {
   "display_name": "Python 2",
   "language": "python",
   "name": "python2"
  },
  "language_info": {
   "codemirror_mode": {
    "name": "ipython",
    "version": 2
   },
   "file_extension": ".py",
   "mimetype": "text/x-python",
   "name": "python",
   "nbconvert_exporter": "python",
   "pygments_lexer": "ipython2",
   "version": "2.7.15"
  }
 },
 "nbformat": 4,
 "nbformat_minor": 2
}
