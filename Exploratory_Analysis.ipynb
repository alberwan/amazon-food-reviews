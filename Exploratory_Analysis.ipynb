{
 "cells": [
  {
   "cell_type": "code",
   "execution_count": 7,
   "metadata": {},
   "outputs": [
    {
     "name": "stdout",
     "output_type": "stream",
     "text": [
      "Requirement already satisfied: spacy in ./venv/lib/python2.7/site-packages (2.0.12)\n",
      "Requirement already satisfied: pandas in ./venv/lib/python2.7/site-packages (0.23.4)\n",
      "Requirement already satisfied: plotly in ./venv/lib/python2.7/site-packages (3.1.0)\n",
      "Requirement already satisfied: preshed<2.0.0,>=1.0.0 in ./venv/lib/python2.7/site-packages (from spacy) (1.0.1)\n",
      "Requirement already satisfied: dill<0.3,>=0.2 in ./venv/lib/python2.7/site-packages (from spacy) (0.2.8.2)\n",
      "Requirement already satisfied: pathlib==1.0.1; python_version < \"3.4\" in ./venv/lib/python2.7/site-packages (from spacy) (1.0.1)\n",
      "Requirement already satisfied: thinc<6.11.0,>=6.10.3 in ./venv/lib/python2.7/site-packages (from spacy) (6.10.3)\n",
      "Requirement already satisfied: requests<3.0.0,>=2.13.0 in ./venv/lib/python2.7/site-packages (from spacy) (2.19.1)\n",
      "Requirement already satisfied: murmurhash<0.29,>=0.28 in ./venv/lib/python2.7/site-packages (from spacy) (0.28.0)\n",
      "Requirement already satisfied: plac<1.0.0,>=0.9.6 in ./venv/lib/python2.7/site-packages (from spacy) (0.9.6)\n",
      "Requirement already satisfied: ujson>=1.35 in ./venv/lib/python2.7/site-packages (from spacy) (1.35)\n",
      "Requirement already satisfied: regex==2017.4.5 in ./venv/lib/python2.7/site-packages (from spacy) (2017.4.5)\n",
      "Requirement already satisfied: cymem<1.32,>=1.30 in ./venv/lib/python2.7/site-packages (from spacy) (1.31.2)\n",
      "Requirement already satisfied: numpy>=1.7 in ./venv/lib/python2.7/site-packages (from spacy) (1.15.0)\n",
      "Requirement already satisfied: python-dateutil>=2.5.0 in ./venv/lib/python2.7/site-packages (from pandas) (2.7.3)\n",
      "Requirement already satisfied: pytz>=2011k in ./venv/lib/python2.7/site-packages (from pandas) (2018.5)\n",
      "Requirement already satisfied: nbformat>=4.2 in ./venv/lib/python2.7/site-packages (from plotly) (4.4.0)\n",
      "Requirement already satisfied: retrying>=1.3.3 in ./venv/lib/python2.7/site-packages (from plotly) (1.3.3)\n",
      "Requirement already satisfied: six in ./venv/lib/python2.7/site-packages (from plotly) (1.11.0)\n",
      "Requirement already satisfied: decorator>=4.0.6 in ./venv/lib/python2.7/site-packages (from plotly) (4.3.0)\n",
      "Requirement already satisfied: msgpack<1.0.0,>=0.5.6 in ./venv/lib/python2.7/site-packages (from thinc<6.11.0,>=6.10.3->spacy) (0.5.6)\n",
      "Requirement already satisfied: wrapt<1.11.0,>=1.10.0 in ./venv/lib/python2.7/site-packages (from thinc<6.11.0,>=6.10.3->spacy) (1.10.11)\n",
      "Requirement already satisfied: tqdm<5.0.0,>=4.10.0 in ./venv/lib/python2.7/site-packages (from thinc<6.11.0,>=6.10.3->spacy) (4.24.0)\n",
      "Requirement already satisfied: msgpack-numpy<1.0.0,>=0.4.1 in ./venv/lib/python2.7/site-packages (from thinc<6.11.0,>=6.10.3->spacy) (0.4.3.1)\n",
      "Requirement already satisfied: cytoolz<0.10,>=0.9.0 in ./venv/lib/python2.7/site-packages (from thinc<6.11.0,>=6.10.3->spacy) (0.9.0.1)\n",
      "Requirement already satisfied: certifi>=2017.4.17 in ./venv/lib/python2.7/site-packages (from requests<3.0.0,>=2.13.0->spacy) (2018.4.16)\n",
      "Requirement already satisfied: chardet<3.1.0,>=3.0.2 in ./venv/lib/python2.7/site-packages (from requests<3.0.0,>=2.13.0->spacy) (3.0.4)\n",
      "Requirement already satisfied: urllib3<1.24,>=1.21.1 in ./venv/lib/python2.7/site-packages (from requests<3.0.0,>=2.13.0->spacy) (1.23)\n",
      "Requirement already satisfied: idna<2.8,>=2.5 in ./venv/lib/python2.7/site-packages (from requests<3.0.0,>=2.13.0->spacy) (2.7)\n",
      "Requirement already satisfied: ipython-genutils in ./venv/lib/python2.7/site-packages (from nbformat>=4.2->plotly) (0.2.0)\n",
      "Requirement already satisfied: traitlets>=4.1 in ./venv/lib/python2.7/site-packages (from nbformat>=4.2->plotly) (4.3.2)\n",
      "Requirement already satisfied: jsonschema!=2.5.0,>=2.4 in ./venv/lib/python2.7/site-packages (from nbformat>=4.2->plotly) (2.6.0)\n",
      "Requirement already satisfied: jupyter-core in ./venv/lib/python2.7/site-packages (from nbformat>=4.2->plotly) (4.4.0)\n",
      "Requirement already satisfied: toolz>=0.8.0 in ./venv/lib/python2.7/site-packages (from cytoolz<0.10,>=0.9.0->thinc<6.11.0,>=6.10.3->spacy) (0.9.0)\n",
      "Requirement already satisfied: enum34; python_version == \"2.7\" in ./venv/lib/python2.7/site-packages (from traitlets>=4.1->nbformat>=4.2->plotly) (1.1.6)\n",
      "Requirement already satisfied: functools32; python_version == \"2.7\" in ./venv/lib/python2.7/site-packages (from jsonschema!=2.5.0,>=2.4->nbformat>=4.2->plotly) (3.2.3.post2)\n",
      "/Users/prem/Desktop/Development/sandbox/amazon-food-reviews/venv/lib/python2.7/site-packages/thinc/neural/train.py:3: RuntimeWarning: numpy.dtype size changed, may indicate binary incompatibility. Expected 96, got 88\n",
      "  from .optimizers import Adam, SGD, linear_decay\n",
      "/Users/prem/Desktop/Development/sandbox/amazon-food-reviews/venv/lib/python2.7/site-packages/thinc/neural/train.py:3: RuntimeWarning: numpy.ufunc size changed, may indicate binary incompatibility. Expected 192, got 176\n",
      "  from .optimizers import Adam, SGD, linear_decay\n",
      "/Users/prem/Desktop/Development/sandbox/amazon-food-reviews/venv/lib/python2.7/site-packages/spacy/cli/train.py:12: RuntimeWarning: numpy.dtype size changed, may indicate binary incompatibility. Expected 96, got 88\n",
      "  from ..gold import GoldCorpus, minibatch\n",
      "/Users/prem/Desktop/Development/sandbox/amazon-food-reviews/venv/lib/python2.7/site-packages/spacy/cli/train.py:12: RuntimeWarning: numpy.ufunc size changed, may indicate binary incompatibility. Expected 192, got 176\n",
      "  from ..gold import GoldCorpus, minibatch\n",
      "/Users/prem/Desktop/Development/sandbox/amazon-food-reviews/venv/lib/python2.7/site-packages/spacy/tokens/__init__.py:1: RuntimeWarning: numpy.dtype size changed, may indicate binary incompatibility. Expected 96, got 88\n",
      "  from .doc import Doc\n",
      "/Users/prem/Desktop/Development/sandbox/amazon-food-reviews/venv/lib/python2.7/site-packages/spacy/tokens/__init__.py:1: RuntimeWarning: numpy.ufunc size changed, may indicate binary incompatibility. Expected 192, got 176\n",
      "  from .doc import Doc\n",
      "/Users/prem/Desktop/Development/sandbox/amazon-food-reviews/venv/lib/python2.7/site-packages/spacy/_ml.py:14: RuntimeWarning: numpy.dtype size changed, may indicate binary incompatibility. Expected 96, got 88\n",
      "  from thinc.linear.linear import LinearModel\n",
      "/Users/prem/Desktop/Development/sandbox/amazon-food-reviews/venv/lib/python2.7/site-packages/spacy/_ml.py:14: RuntimeWarning: numpy.ufunc size changed, may indicate binary incompatibility. Expected 192, got 176\n",
      "  from thinc.linear.linear import LinearModel\n",
      "Collecting en_core_web_sm==2.0.0 from https://github.com/explosion/spacy-models/releases/download/en_core_web_sm-2.0.0/en_core_web_sm-2.0.0.tar.gz#egg=en_core_web_sm==2.0.0\n",
      "\u001b[?25l  Downloading https://github.com/explosion/spacy-models/releases/download/en_core_web_sm-2.0.0/en_core_web_sm-2.0.0.tar.gz (37.4MB)\n",
      "\u001b[K    100% |████████████████████████████████| 37.4MB 4.6MB/s ta 0:00:011\n",
      "\u001b[?25hInstalling collected packages: en-core-web-sm\n",
      "  Running setup.py install for en-core-web-sm ... \u001b[?25ldone\n",
      "\u001b[?25hSuccessfully installed en-core-web-sm-2.0.0\n",
      "\n",
      "\u001b[93m    Linking successful\u001b[0m\n",
      "    /Users/prem/Desktop/Development/sandbox/amazon-food-reviews/venv/lib/python2.7/site-packages/en_core_web_sm\n",
      "    -->\n",
      "    /Users/prem/Desktop/Development/sandbox/amazon-food-reviews/venv/lib/python2.7/site-packages/spacy/data/en\n",
      "\n",
      "    You can now load the model via spacy.load('en')\n",
      "\n"
     ]
    }
   ],
   "source": [
    "# coding: utf8\n",
    "\n",
    "!pip install spacy pandas plotly\n",
    "\n",
    "import sqlite3\n",
    "import spacy\n",
    "import pandas as pd\n",
    "import plotly.plotly as py\n",
    "import plotly.figure_factory as ff\n",
    "\n",
    "!python -m spacy download en"
   ]
  },
  {
   "cell_type": "code",
   "execution_count": 9,
   "metadata": {},
   "outputs": [
    {
     "name": "stderr",
     "output_type": "stream",
     "text": [
      "/Users/prem/Desktop/Development/sandbox/amazon-food-reviews/venv/lib/python2.7/site-packages/spacy/language.py:15: RuntimeWarning:\n",
      "\n",
      "numpy.dtype size changed, may indicate binary incompatibility. Expected 96, got 88\n",
      "\n",
      "/Users/prem/Desktop/Development/sandbox/amazon-food-reviews/venv/lib/python2.7/site-packages/spacy/language.py:15: RuntimeWarning:\n",
      "\n",
      "numpy.ufunc size changed, may indicate binary incompatibility. Expected 192, got 176\n",
      "\n",
      "/Users/prem/Desktop/Development/sandbox/amazon-food-reviews/venv/lib/python2.7/site-packages/spacy/language.py:18: RuntimeWarning:\n",
      "\n",
      "numpy.dtype size changed, may indicate binary incompatibility. Expected 96, got 88\n",
      "\n",
      "/Users/prem/Desktop/Development/sandbox/amazon-food-reviews/venv/lib/python2.7/site-packages/spacy/language.py:18: RuntimeWarning:\n",
      "\n",
      "numpy.ufunc size changed, may indicate binary incompatibility. Expected 192, got 176\n",
      "\n"
     ]
    }
   ],
   "source": [
    "nlp = spacy.load('en')"
   ]
  },
  {
   "cell_type": "code",
   "execution_count": 10,
   "metadata": {},
   "outputs": [],
   "source": [
    "df = pd.read_csv(\"data/amazon-fine-food-reviews/Reviews.csv\")\n",
    "#table = ff.create_table(df)\n",
    "#py.iplot(table, filename='jupyter-table1')"
   ]
  },
  {
   "cell_type": "code",
   "execution_count": 11,
   "metadata": {},
   "outputs": [
    {
     "name": "stdout",
     "output_type": "stream",
     "text": [
      "I have bought several of the Vitality canned dog food products and have found them all to be of good quality. The product looks more like a stew than a processed meat and it smells better. My Labrador is finicky and she appreciates this product better than  most.\n"
     ]
    }
   ],
   "source": [
    "text = df.Text\n",
    "print(text[0])"
   ]
  },
  {
   "cell_type": "code",
   "execution_count": 15,
   "metadata": {},
   "outputs": [
    {
     "name": "stdout",
     "output_type": "stream",
     "text": [
      "I have bought several of the Vitality canned dog food products and have found them all to be of good quality.\n",
      "The product looks more like a stew than a processed meat and it smells better.\n",
      "My Labrador is finicky and she appreciates this product better than  most.\n",
      "(u'Vitality', 29, 37, u'ORG')\n",
      "(u'My Labrador', 189, 200, u'PERSON')\n",
      "(u' ', 257, 258, u'NORP')\n"
     ]
    }
   ],
   "source": [
    "doc = nlp(unicode(text[0]))\n",
    "for sent in doc.sents:\n",
    "    print(sent.text)\n",
    "\n",
    "for ent in doc.ents:\n",
    "    print(ent.text, ent.start_char, ent.end_char, ent.label_)"
   ]
  },
  {
   "cell_type": "code",
   "execution_count": null,
   "metadata": {},
   "outputs": [],
   "source": []
  }
 ],
 "metadata": {
  "kernelspec": {
   "display_name": "Python 2",
   "language": "python",
   "name": "python2"
  },
  "language_info": {
   "codemirror_mode": {
    "name": "ipython",
    "version": 2
   },
   "file_extension": ".py",
   "mimetype": "text/x-python",
   "name": "python",
   "nbconvert_exporter": "python",
   "pygments_lexer": "ipython2",
   "version": "2.7.15"
  }
 },
 "nbformat": 4,
 "nbformat_minor": 2
}
